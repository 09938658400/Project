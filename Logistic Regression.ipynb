{
 "cells": [
  {
   "cell_type": "code",
   "execution_count": 1,
   "id": "fcb37f49-c563-4e8d-a2ff-cd81a28654c8",
   "metadata": {},
   "outputs": [
    {
     "ename": "ModuleNotFoundError",
     "evalue": "No module named 'sklearn'",
     "output_type": "error",
     "traceback": [
      "\u001b[1;31m---------------------------------------------------------------------------\u001b[0m",
      "\u001b[1;31mModuleNotFoundError\u001b[0m                       Traceback (most recent call last)",
      "Cell \u001b[1;32mIn[1], line 1\u001b[0m\n\u001b[1;32m----> 1\u001b[0m \u001b[38;5;28;01mfrom\u001b[39;00m \u001b[38;5;21;01msklearn\u001b[39;00m\u001b[38;5;21;01m.\u001b[39;00m\u001b[38;5;21;01mdatasets\u001b[39;00m \u001b[38;5;28;01mimport\u001b[39;00m load_iris\n\u001b[0;32m      2\u001b[0m \u001b[38;5;28;01mfrom\u001b[39;00m \u001b[38;5;21;01msklearn\u001b[39;00m\u001b[38;5;21;01m.\u001b[39;00m\u001b[38;5;21;01mlinear_model\u001b[39;00m \u001b[38;5;28;01mimport\u001b[39;00m LogisticRegression\n\u001b[0;32m      3\u001b[0m X, y \u001b[38;5;241m=\u001b[39m load_iris(return_X_y\u001b[38;5;241m=\u001b[39m\u001b[38;5;28;01mTrue\u001b[39;00m)\n",
      "\u001b[1;31mModuleNotFoundError\u001b[0m: No module named 'sklearn'"
     ]
    }
   ],
   "source": [
    "from sklearn.datasets import load_iris\n",
    "from sklearn.linear_model import LogisticRegression\n",
    "X, y = load_iris(return_X_y=True)\n",
    "clf = LogisticRegression(random_state=0).fit(X, y)\n",
    "clf.predict(X[:2, :])\n",
    "clf.predict_proba(X[:2, :])\n",
    "clf.score(X, y)"
   ]
  },
  {
   "cell_type": "code",
   "execution_count": 2,
   "id": "6ef5341a-dff3-408f-94cc-e1f21a594de5",
   "metadata": {},
   "outputs": [
    {
     "ename": "ModuleNotFoundError",
     "evalue": "No module named 'sklearn'",
     "output_type": "error",
     "traceback": [
      "\u001b[1;31m---------------------------------------------------------------------------\u001b[0m",
      "\u001b[1;31mModuleNotFoundError\u001b[0m                       Traceback (most recent call last)",
      "Cell \u001b[1;32mIn[2], line 1\u001b[0m\n\u001b[1;32m----> 1\u001b[0m \u001b[38;5;28;01mfrom\u001b[39;00m \u001b[38;5;21;01msklearn\u001b[39;00m\u001b[38;5;21;01m.\u001b[39;00m\u001b[38;5;21;01mdatasets\u001b[39;00m \u001b[38;5;28;01mimport\u001b[39;00m load_iris\n\u001b[0;32m      2\u001b[0m \u001b[38;5;28;01mfrom\u001b[39;00m \u001b[38;5;21;01msklearn\u001b[39;00m\u001b[38;5;21;01m.\u001b[39;00m\u001b[38;5;21;01mlinear_model\u001b[39;00m \u001b[38;5;28;01mimport\u001b[39;00m LogisticRegressionCV\n\u001b[0;32m      3\u001b[0m X, y \u001b[38;5;241m=\u001b[39m load_iris(return_X_y\u001b[38;5;241m=\u001b[39m\u001b[38;5;28;01mTrue\u001b[39;00m)\n",
      "\u001b[1;31mModuleNotFoundError\u001b[0m: No module named 'sklearn'"
     ]
    }
   ],
   "source": [
    "from sklearn.datasets import load_iris\n",
    "from sklearn.linear_model import LogisticRegressionCV\n",
    "X, y = load_iris(return_X_y=True)\n",
    "clf = LogisticRegressionCV(cv=5, random_state=0).fit(X, y)\n",
    "clf.predict(X[:2, :])\n",
    "clf.predict_proba(X[:2, :]).shape\n",
    "clf.score(X, y)"
   ]
  },
  {
   "cell_type": "code",
   "execution_count": null,
   "id": "8b722bad-7aff-407d-b80a-e18f154668d4",
   "metadata": {},
   "outputs": [],
   "source": [
    "from sklearn.linear_model import PassiveAggressiveClassifier\n",
    "from sklearn.datasets import make_classification\n",
    "X, y = make_classification(n_features=4, random_state=0)\n",
    "clf = PassiveAggressiveClassifier(max_iter=1000, random_state=0,\n",
    "tol=1e-3)\n",
    "clf.fit(X, y)\n",
    "print(clf.coef_)\n",
    "print(clf.intercept_)\n",
    "print(clf.predict([[0, 0, 0, 0]]))"
   ]
  },
  {
   "cell_type": "code",
   "execution_count": null,
   "id": "d584c9bf-0859-4915-82e3-39a0b414bbc4",
   "metadata": {},
   "outputs": [],
   "source": [
    "from sklearn.datasets import load_digits\n",
    "from sklearn.linear_model import Perceptron\n",
    "X, y = load_digits(return_X_y=True)\n",
    "clf = Perceptron(tol=1e-3, random_state=0)\n",
    "clf.fit(X, y)\n",
    "clf.score(X, y)"
   ]
  },
  {
   "cell_type": "code",
   "execution_count": null,
   "id": "928db015-8320-4ce1-a6c7-57bfd9bb1fd5",
   "metadata": {},
   "outputs": [],
   "source": [
    "from sklearn.datasets import load_breast_cancer\n",
    "from sklearn.linear_model import RidgeClassifier\n",
    "X, y = load_breast_cancer(return_X_y=True)\n",
    "clf = RidgeClassifier().fit(X, y)\n",
    "clf.score(X, y)"
   ]
  },
  {
   "cell_type": "code",
   "execution_count": null,
   "id": "0b4e2072-7b74-47e1-8943-d2cbd4a21337",
   "metadata": {},
   "outputs": [],
   "source": [
    "import numpy as np\n",
    "from sklearn.linear_model import SGDClassifier\n",
    "from sklearn.preprocessing import StandardScaler\n",
    "from sklearn.pipeline import make_pipeline\n",
    "X = np.array([[-1, -1], [-2, -1], [1, 1], [2, 1]])\n",
    "Y = np.array([1, 1, 2, 2])\n",
    "# Always scale the input. The most convenient way is to use a pipeline.\n",
    "clf = make_pipeline(StandardScaler(),\n",
    "                    SGDClassifier(max_iter=1000, tol=1e-3))\n",
    "clf.fit(X, Y)\n",
    "print(clf.predict([[-0.8, -1]]))"
   ]
  },
  {
   "cell_type": "code",
   "execution_count": null,
   "id": "d8ba196f-3e11-491c-b631-db1ebabd833d",
   "metadata": {},
   "outputs": [],
   "source": [
    "import numpy as np\n",
    "from sklearn import linear_model\n",
    "X = np.array([[-1, -1], [-2, -1], [1, 1], [2, 1]])\n",
    "clf = linear_model.SGDOneClassSVM(random_state=42)\n",
    "clf.fit(X)"
   ]
  },
  {
   "cell_type": "code",
   "execution_count": null,
   "id": "3919fdf5-33ae-4cad-881c-bb4c24dde86d",
   "metadata": {},
   "outputs": [],
   "source": [
    "import numpy as np\n",
    "from sklearn import linear_model\n",
    "X = np.array([[-1, -1], [-2, -1], [1, 1], [2, 1]])\n",
    "clf = linear_model.SGDOneClassSVM(random_state=42)\n",
    "clf.fit(X)"
   ]
  },
  {
   "cell_type": "code",
   "execution_count": null,
   "id": "27b5ccee-0fa8-461d-87b0-378f064afe70",
   "metadata": {},
   "outputs": [],
   "source": [
    "import numpy as np\n",
    "from sklearn.linear_model import LinearRegression\n",
    "X = np.array([[1, 1], [1, 2], [2, 2], [2, 3]])\n",
    "# y = 1 * x_0 + 2 * x_1 + 3\n",
    "y = np.dot(X, np.array([1, 2])) + 3\n",
    "reg = LinearRegression().fit(X, y)\n",
    "reg.score(X, y)\n",
    "reg.coef_\n",
    "reg.intercept_\n",
    "reg.predict(np.array([[3, 5]]))"
   ]
  },
  {
   "cell_type": "code",
   "execution_count": null,
   "id": "c24de1aa-ea86-4f16-bc33-53bf27ede7df",
   "metadata": {},
   "outputs": [],
   "source": [
    "from sklearn.linear_model import Ridge\n",
    "import numpy as np\n",
    "n_samples, n_features = 10, 5\n",
    "rng = np.random.RandomState(0)\n",
    "y = rng.randn(n_samples)\n",
    "X = rng.randn(n_samples, n_features)\n",
    "clf = Ridge(alpha=1.0)\n",
    "clf.fit(X, y)"
   ]
  },
  {
   "cell_type": "code",
   "execution_count": null,
   "id": "33d70058-3aec-4a76-acfb-536916c5fa0a",
   "metadata": {},
   "outputs": [],
   "source": [
    "from sklearn.datasets import load_diabetes\n",
    "from sklearn.linear_model import RidgeCV\n",
    "X, y = load_diabetes(return_X_y=True)\n",
    "clf = RidgeCV(alphas=[1e-3, 1e-2, 1e-1, 1]).fit(X, y)\n",
    "clf.score(X, y)"
   ]
  },
  {
   "cell_type": "code",
   "execution_count": null,
   "id": "e95d9806-120b-4021-bf81-3dd5c7f9aa9e",
   "metadata": {},
   "outputs": [],
   "source": [
    "import numpy as np\n",
    "from sklearn.linear_model import SGDRegressor\n",
    "from sklearn.pipeline import make_pipeline\n",
    "from sklearn.preprocessing import StandardScaler\n",
    "n_samples, n_features = 10, 5\n",
    "rng = np.random.RandomState(0)\n",
    "y = rng.randn(n_samples)\n",
    "X = rng.randn(n_samples, n_features)\n",
    "# Always scale the input. The most convenient way is to use a pipeline.\n",
    "reg = make_pipeline(StandardScaler(),\n",
    "                    SGDRegressor(max_iter=1000, tol=1e-3))\n",
    "reg.fit(X, y)"
   ]
  },
  {
   "cell_type": "code",
   "execution_count": null,
   "id": "07288137-f21c-4b99-989c-f2e56d292fd4",
   "metadata": {},
   "outputs": [],
   "source": [
    "1 / (2 * n_samples) * ||y - Xw||^2_2\n",
    "+ alpha * l1_ratio * ||w||_1\n",
    "+ 0.5 * alpha * (1 - l1_ratio) * ||w||^2_2"
   ]
  },
  {
   "cell_type": "code",
   "execution_count": null,
   "id": "05f66a9e-2499-434b-a5b6-e9e1516c84f2",
   "metadata": {},
   "outputs": [],
   "source": [
    "1 / (2 * n_samples) * ||y - Xw||^2_2\n",
    "+ alpha * l1_ratio * ||w||_1\n",
    "+ 0.5 * alpha * (1 - l1_ratio) * ||w||^2_2"
   ]
  },
  {
   "cell_type": "code",
   "execution_count": null,
   "id": "a5ab1a3c-4614-4724-90d2-404a84b07995",
   "metadata": {},
   "outputs": [],
   "source": [
    "import numpy as np\n",
    "from sklearn.manifold import TSNE\n",
    "X = np.array([[0, 0, 0], [0, 1, 1], [1, 0, 1], [1, 1, 1]])\n",
    "X_embedded = TSNE(n_components=2, learning_rate='auto',\n",
    "                  init='random', perplexity=3).fit_transform(X)\n",
    "X_embedded.shape"
   ]
  },
  {
   "cell_type": "code",
   "execution_count": null,
   "id": "49c71e6e-d5ac-4c11-b047-6e3ba5b20086",
   "metadata": {},
   "outputs": [],
   "source": [
    "from sklearn.datasets import load_digits\n",
    "from sklearn.manifold import SpectralEmbedding\n",
    "X, _ = load_digits(return_X_y=True)\n",
    "X.shape\n",
    "embedding = SpectralEmbedding(n_components=2)\n",
    "X_transformed = embedding.fit_transform(X[:100])\n",
    "X_transformed.shape"
   ]
  },
  {
   "cell_type": "code",
   "execution_count": null,
   "id": "38e4d1b2-3ec5-4cad-949a-220f287e2692",
   "metadata": {},
   "outputs": [],
   "source": [
    "from sklearn.datasets import load_digits\n",
    "from sklearn.manifold import LocallyLinearEmbedding\n",
    "X, _ = load_digits(return_X_y=True)\n",
    "X.shape\n",
    "embedding = LocallyLinearEmbedding(n_components=2)\n",
    "X_transformed = embedding.fit_transform(X[:100])\n",
    "X_transformed.shape"
   ]
  },
  {
   "cell_type": "code",
   "execution_count": null,
   "id": "631138f3-7a83-450c-961f-572868314579",
   "metadata": {},
   "outputs": [],
   "source": [
    "from sklearn.datasets import load_digits\n",
    "from sklearn.manifold import MDS\n",
    "X, _ = load_digits(return_X_y=True)\n",
    "X.shape\n",
    "embedding = MDS(n_components=2, normalized_stress='auto')\n",
    "X_transformed = embedding.fit_transform(X[:100])\n",
    "X_transformed.shape"
   ]
  },
  {
   "cell_type": "code",
   "execution_count": null,
   "id": "3e923bcb-9dce-432d-a2fc-382fd8f1d713",
   "metadata": {},
   "outputs": [],
   "source": [
    "from sklearn.datasets import load_digits\n",
    "from sklearn.manifold import LocallyLinearEmbedding\n",
    "X, _ = load_digits(return_X_y=True)\n",
    "X.shape\n",
    "embedding = LocallyLinearEmbedding(n_components=2)\n",
    "X_transformed = embedding.fit_transform(X[:100])\n",
    "X_transformed.shape"
   ]
  },
  {
   "cell_type": "code",
   "execution_count": null,
   "id": "b35ea461-31e1-4704-8b98-51bcde7d4eee",
   "metadata": {},
   "outputs": [],
   "source": [
    "from sklearn.datasets import load_digits\n",
    "from sklearn.manifold import Isomap\n",
    "X, _ = load_digits(return_X_y=True)\n",
    "X.shape\n",
    "embedding = Isomap(n_components=2)\n",
    "X_transformed = embedding.fit_transform(X[:100])\n",
    "X_transformed.shape"
   ]
  },
  {
   "cell_type": "code",
   "execution_count": null,
   "id": "47f6943c-a5ed-4e4e-97b0-57ba1f72e8e7",
   "metadata": {},
   "outputs": [],
   "source": [
    "from sklearn.datasets import load_iris\n",
    "from sklearn.linear_model import LogisticRegressionCV\n",
    "X, y = load_iris(return_X_y=True)\n",
    "clf = LogisticRegressionCV(cv=5, random_state=0).fit(X, y)\n",
    "clf.predict(X[:2, :])\n",
    "clf.predict_proba(X[:2, :]).shape\n",
    "clf.score(X, y)"
   ]
  },
  {
   "cell_type": "code",
   "execution_count": null,
   "id": "28e7fbac-10a4-4d0f-b661-c4c0d9d38d45",
   "metadata": {},
   "outputs": [],
   "source": [
    "from sklearn.linear_model import PassiveAggressiveClassifier\n",
    "from sklearn.datasets import make_classification\n",
    "X, y = make_classification(n_features=4, random_state=0)\n",
    "clf = PassiveAggressiveClassifier(max_iter=1000, random_state=0,\n",
    "tol=1e-3)\n",
    "clf.fit(X, y)\n",
    "print(clf.coef_)\n",
    "print(clf.intercept_)\n",
    "print(clf.predict([[0, 0, 0, 0]]))"
   ]
  },
  {
   "cell_type": "code",
   "execution_count": null,
   "id": "67252ef5-16aa-4672-9d7c-013e649f75de",
   "metadata": {},
   "outputs": [],
   "source": [
    "from sklearn.datasets import load_digits\n",
    "from sklearn.linear_model import Perceptron\n",
    "X, y = load_digits(return_X_y=True)\n",
    "clf = Perceptron(tol=1e-3, random_state=0)\n",
    "clf.fit(X, y)\n",
    "clf.score(X, y)"
   ]
  },
  {
   "cell_type": "code",
   "execution_count": null,
   "id": "1d13dad6-a1b3-4b1c-b82a-c4a46c9a01e5",
   "metadata": {},
   "outputs": [],
   "source": [
    "from sklearn.datasets import load_breast_cancer\n",
    "from sklearn.linear_model import RidgeClassifier\n",
    "X, y = load_breast_cancer(return_X_y=True)\n",
    "clf = RidgeClassifier().fit(X, y)\n",
    "clf.score(X, y)"
   ]
  },
  {
   "cell_type": "code",
   "execution_count": null,
   "id": "c51d6d98-b3a6-4172-9772-117e3e54e51d",
   "metadata": {},
   "outputs": [],
   "source": [
    "import numpy as np\n",
    "from sklearn.linear_model import SGDClassifier\n",
    "from sklearn.preprocessing import StandardScaler\n",
    "from sklearn.pipeline import make_pipeline\n",
    "X = np.array([[-1, -1], [-2, -1], [1, 1], [2, 1]])\n",
    "Y = np.array([1, 1, 2, 2])\n",
    "# Always scale the input. The most convenient way is to use a pipeline.\n",
    "clf = make_pipeline(StandardScaler(),\n",
    "                    SGDClassifier(max_iter=1000, tol=1e-3))\n",
    "clf.fit(X, Y)\n",
    "print(clf.predict([[-0.8, -1]]))"
   ]
  },
  {
   "cell_type": "code",
   "execution_count": null,
   "id": "687b109a-ecc6-469b-8436-20588cb1aa0f",
   "metadata": {},
   "outputs": [],
   "source": [
    "import numpy as np\n",
    "from sklearn import linear_model\n",
    "X = np.array([[-1, -1], [-2, -1], [1, 1], [2, 1]])\n",
    "clf = linear_model.SGDOneClassSVM(random_state=42)\n",
    "clf.fit(X)"
   ]
  },
  {
   "cell_type": "code",
   "execution_count": null,
   "id": "402b5015-0d78-44f9-ae13-2c287d8672dc",
   "metadata": {},
   "outputs": [],
   "source": [
    "print(clf.predict([[4, 4]]))"
   ]
  },
  {
   "cell_type": "code",
   "execution_count": null,
   "id": "d1a385e8-a4dc-4c12-8437-acdfeb101262",
   "metadata": {},
   "outputs": [],
   "source": [
    "import numpy as np\n",
    "from sklearn.linear_model import LinearRegression\n",
    "X = np.array([[1, 1], [1, 2], [2, 2], [2, 3]])\n",
    "# y = 1 * x_0 + 2 * x_1 + 3\n",
    "y = np.dot(X, np.array([1, 2])) + 3\n",
    "reg = LinearRegression().fit(X, y)\n",
    "reg.score(X, y)\n",
    "reg.coef_\n",
    "reg.intercept_\n",
    "reg.predict(np.array([[3, 5]]))"
   ]
  },
  {
   "cell_type": "code",
   "execution_count": null,
   "id": "0ea31dd9-7e9c-4ae9-8f4f-c67b6e28eb63",
   "metadata": {},
   "outputs": [],
   "source": [
    "||y - Xw||^2_2 + alpha * ||w||^2_2"
   ]
  },
  {
   "cell_type": "code",
   "execution_count": null,
   "id": "37b395d5-bb14-4f37-8fcb-955b24d286f1",
   "metadata": {},
   "outputs": [],
   "source": [
    "from sklearn.linear_model import Ridge\n",
    "import numpy as np\n",
    "n_samples, n_features = 10, 5\n",
    "rng = np.random.RandomState(0)\n",
    "y = rng.randn(n_samples)\n",
    "X = rng.randn(n_samples, n_features)\n",
    "clf = Ridge(alpha=1.0)\n",
    "clf.fit(X, y)"
   ]
  },
  {
   "cell_type": "code",
   "execution_count": null,
   "id": "e7ff0ea6-49a9-4769-9e2b-e9cc6928c599",
   "metadata": {},
   "outputs": [],
   "source": [
    "from sklearn.linear_model import Ridge\n",
    "import numpy as np\n",
    "n_samples, n_features = 10, 5\n",
    "rng = np.random.RandomState(0)\n",
    "y = rng.randn(n_samples)\n",
    "X = rng.randn(n_samples, n_features)\n",
    "clf = Ridge(alpha=1.0)\n",
    "clf.fit(X, y)"
   ]
  },
  {
   "cell_type": "code",
   "execution_count": null,
   "id": "718a4bfa-ed5a-43d3-9a5f-5910b65fbfdc",
   "metadata": {},
   "outputs": [],
   "source": [
    "from sklearn.datasets import load_diabetes\n",
    "from sklearn.linear_model import RidgeCV\n",
    "X, y = load_diabetes(return_X_y=True)\n",
    "clf = RidgeCV(alphas=[1e-3, 1e-2, 1e-1, 1]).fit(X, y)\n",
    "clf.score(X, y)"
   ]
  },
  {
   "cell_type": "code",
   "execution_count": null,
   "id": "c10a6c7c-24fc-4e45-aec6-3359520b208d",
   "metadata": {},
   "outputs": [],
   "source": [
    "import numpy as np\n",
    "from sklearn.linear_model import SGDRegressor\n",
    "from sklearn.pipeline import make_pipeline\n",
    "from sklearn.preprocessing import StandardScaler\n",
    "n_samples, n_features = 10, 5\n",
    "rng = np.random.RandomState(0)\n",
    "y = rng.randn(n_samples)\n",
    "X = rng.randn(n_samples, n_features)\n",
    "# Always scale the input. The most convenient way is to use a pipeline.\n",
    "reg = make_pipeline(StandardScaler(),\n",
    "                    SGDRegressor(max_iter=1000, tol=1e-3))\n",
    "reg.fit(X, y)"
   ]
  },
  {
   "cell_type": "code",
   "execution_count": null,
   "id": "57d4c7c2-4161-4930-97d2-08fb16a5c0cb",
   "metadata": {},
   "outputs": [],
   "source": [
    "1 / (2 * n_samples) * ||y - Xw||^2_2\n",
    "+ alpha * l1_ratio * ||w||_1\n",
    "+ 0.5 * alpha * (1 - l1_ratio) * ||w||^2_2"
   ]
  },
  {
   "cell_type": "code",
   "execution_count": null,
   "id": "be6653a2-5300-4ff4-831a-9064d7181aa0",
   "metadata": {},
   "outputs": [],
   "source": [
    "a * ||w||_1 + 0.5 * b * ||w||_2^2"
   ]
  },
  {
   "cell_type": "code",
   "execution_count": null,
   "id": "43ac3c07-eea3-48b5-a3cf-11eb98c70779",
   "metadata": {},
   "outputs": [],
   "source": [
    "alpha = a + b and l1_ratio = a / (a + b)"
   ]
  },
  {
   "cell_type": "code",
   "execution_count": null,
   "id": "850a54e1-4ac1-4741-bee9-f604d0365c69",
   "metadata": {},
   "outputs": [],
   "source": [
    "from sklearn.linear_model import ElasticNet\n",
    "from sklearn.datasets import make_regression"
   ]
  },
  {
   "cell_type": "code",
   "execution_count": null,
   "id": "361804bc-93c7-4a4e-b7b4-26b760ea778c",
   "metadata": {},
   "outputs": [],
   "source": [
    "X, y = make_regression(n_features=2, random_state=0)\n",
    "regr = ElasticNet(random_state=0)\n",
    "regr.fit(X, y)\n",
    "print(regr.coef_)\n",
    "print(regr.intercept_)\n",
    "print(regr.predict([[0, 0]]))"
   ]
  },
  {
   "cell_type": "code",
   "execution_count": null,
   "id": "4327a0f2-88a2-4a9f-a07c-428d99d6a50a",
   "metadata": {},
   "outputs": [],
   "source": [
    "1 / (2 * n_samples) * ||y - Xw||^2_2\n",
    "+ alpha * l1_ratio * ||w||_1\n",
    "+ 0.5 * alpha * (1 - l1_ratio) * ||w||^2_2"
   ]
  },
  {
   "cell_type": "code",
   "execution_count": null,
   "id": "28f15b4a-5407-43f6-96a0-77a9aa33c4a8",
   "metadata": {},
   "outputs": [],
   "source": [
    "(1 / (2 * n_samples)) * ||Y - XW||_Fro^2\n",
    "+ alpha * l1_ratio * ||W||_21\n",
    "+ 0.5 * alpha * (1 - l1_ratio) * ||W||_Fro^2"
   ]
  },
  {
   "cell_type": "code",
   "execution_count": null,
   "id": "43ad6b14-2d6e-4a1c-bb62-355206d980d3",
   "metadata": {},
   "outputs": [],
   "source": [
    "||W||_21 = \\sum_i \\sqrt{\\sum_j w_{ij}^2}"
   ]
  },
  {
   "cell_type": "code",
   "execution_count": null,
   "id": "11137354-5953-4ee9-bd2d-e3555cc9b0ba",
   "metadata": {},
   "outputs": [],
   "source": [
    "1 / (2 * n_samples) * ||y - Xw||^2_2\n",
    "+ alpha * l1_ratio * ||w||_1\n",
    "+ 0.5 * alpha * (1 - l1_ratio) * ||w||^2_2"
   ]
  },
  {
   "cell_type": "code",
   "execution_count": null,
   "id": "725eb03d-1dfd-4e44-bbae-5740123586e9",
   "metadata": {},
   "outputs": [],
   "source": [
    "a * L1 + b * L2"
   ]
  },
  {
   "cell_type": "code",
   "execution_count": null,
   "id": "a66b19f1-bf0d-49ea-aa49-34a801025efb",
   "metadata": {},
   "outputs": [],
   "source": [
    "alpha = a + b and l1_ratio = a / (a + b)."
   ]
  },
  {
   "cell_type": "code",
   "execution_count": null,
   "id": "7b67d4c7-9aee-4f84-a1ee-d0d8b8c69c9a",
   "metadata": {},
   "outputs": [],
   "source": [
    "from sklearn.linear_model import ElasticNetCV\n",
    "from sklearn.datasets import make_regression"
   ]
  },
  {
   "cell_type": "code",
   "execution_count": null,
   "id": "4a4a2ceb-29ab-4f8c-b38c-c18fa11eed90",
   "metadata": {},
   "outputs": [],
   "source": [
    "X, y = make_regression(n_features=2, random_state=0)\n",
    "regr = ElasticNetCV(cv=5, random_state=0)\n",
    "regr.fit(X, y)\n",
    "print(regr.alpha_)\n",
    "print(regr.intercept_)\n",
    "print(regr.predict([[0, 0]]))"
   ]
  },
  {
   "cell_type": "code",
   "execution_count": null,
   "id": "31b7b086-f1d5-4c9b-9c58-45117d80f46c",
   "metadata": {},
   "outputs": [],
   "source": [
    "1 / (2 * n_samples) * ||y - Xw||^2_2\n",
    "+ alpha * l1_ratio * ||w||_1\n",
    "+ 0.5 * alpha * (1 - l1_ratio) * ||w||^2_2"
   ]
  },
  {
   "cell_type": "code",
   "execution_count": null,
   "id": "0a68255e-fbf7-480f-8380-f1ae025d0916",
   "metadata": {},
   "outputs": [],
   "source": [
    "(1 / (2 * n_samples)) * ||Y - XW||_Fro^2\n",
    "+ alpha * l1_ratio * ||W||_21\n",
    "+ 0.5 * alpha * (1 - l1_ratio) * ||W||_Fro^2"
   ]
  },
  {
   "cell_type": "code",
   "execution_count": null,
   "id": "2bae7780-5572-4ab5-9369-7d8901141b6d",
   "metadata": {},
   "outputs": [],
   "source": [
    "||W||_21 = \\sum_i \\sqrt{\\sum_j w_{ij}^2}"
   ]
  },
  {
   "cell_type": "code",
   "execution_count": null,
   "id": "96c2b7f8-1746-420a-8371-9dcec8349ac6",
   "metadata": {},
   "outputs": [],
   "source": [
    "from sklearn import linear_model\n",
    "reg = linear_model.Lars(n_nonzero_coefs=1)\n",
    "reg.fit([[-1, 1], [0, 0], [1, 1]], [-1.1111, 0, -1.1111])\n",
    "print(reg.coef_)"
   ]
  },
  {
   "cell_type": "code",
   "execution_count": null,
   "id": "3ae61057-cbe7-4a49-b6fd-1d8be4e92202",
   "metadata": {},
   "outputs": [],
   "source": [
    "from sklearn.linear_model import LarsCV\n",
    "from sklearn.datasets import make_regression\n",
    "X, y = make_regression(n_samples=200, noise=4.0, random_state=0)\n",
    "reg = LarsCV(cv=5).fit(X, y)\n",
    "reg.score(X, y)\n",
    "reg.alpha_\n",
    "reg.predict(X[:1,])"
   ]
  },
  {
   "cell_type": "code",
   "execution_count": null,
   "id": "2993a3e8-1dac-4c68-9af0-dc4ea0657ead",
   "metadata": {},
   "outputs": [],
   "source": [
    "from sklearn.linear_model import PassiveAggressiveClassifier\n",
    "from sklearn.datasets import make_classification\n",
    "X, y = make_classification(n_features=4, random_state=0)\n",
    "clf = PassiveAggressiveClassifier(max_iter=1000, random_state=0,\n",
    "tol=1e-3)\n",
    "clf.fit(X, y)\n",
    "print(clf.coef_)\n",
    "print(clf.intercept_)\n",
    "print(clf.predict([[0, 0, 0, 0]]))"
   ]
  },
  {
   "cell_type": "code",
   "execution_count": null,
   "id": "6922571c-54de-4757-b8bf-3e7ac414b532",
   "metadata": {},
   "outputs": [],
   "source": [
    "from sklearn.datasets import load_digits\n",
    "from sklearn.linear_model import Perceptron\n",
    "X, y = load_digits(return_X_y=True)\n",
    "clf = Perceptron(tol=1e-3, random_state=0)\n",
    "clf.fit(X, y)\n",
    "clf.score(X, y)"
   ]
  },
  {
   "cell_type": "code",
   "execution_count": null,
   "id": "c0686166-2501-486c-86c6-384dd78d1a67",
   "metadata": {},
   "outputs": [],
   "source": [
    "from sklearn.datasets import load_breast_cancer\n",
    "from sklearn.linear_model import RidgeClassifier\n",
    "X, y = load_breast_cancer(return_X_y=True)\n",
    "clf = RidgeClassifier().fit(X, y)\n",
    "clf.score(X, y)"
   ]
  },
  {
   "cell_type": "code",
   "execution_count": null,
   "id": "ddd93b87-db9c-4867-8f84-602c84a7581c",
   "metadata": {},
   "outputs": [],
   "source": [
    "from sklearn.datasets import load_breast_cancer\n",
    "from sklearn.linear_model import RidgeClassifierCV\n",
    "X, y = load_breast_cancer(return_X_y=True)\n",
    "clf = RidgeClassifierCV(alphas=[1e-3, 1e-2, 1e-1, 1]).fit(X, y)\n",
    "clf.score(X, y)"
   ]
  },
  {
   "cell_type": "code",
   "execution_count": null,
   "id": "abfe569e-dc26-4057-8f86-b68f55c6e7ce",
   "metadata": {},
   "outputs": [],
   "source": [
    "import numpy as np\n",
    "from sklearn import linear_model\n",
    "X = np.array([[-1, -1], [-2, -1], [1, 1], [2, 1]])\n",
    "clf = linear_model.SGDOneClassSVM(random_state=42)\n",
    "clf.fit(X)"
   ]
  },
  {
   "cell_type": "code",
   "execution_count": null,
   "id": "adc1d178-44df-4f73-9ad9-bb9860c257e1",
   "metadata": {},
   "outputs": [],
   "source": [
    "print(clf.predict([[4, 4]]))"
   ]
  }
 ],
 "metadata": {
  "kernelspec": {
   "display_name": "Python 3 (ipykernel)",
   "language": "python",
   "name": "python3"
  },
  "language_info": {
   "codemirror_mode": {
    "name": "ipython",
    "version": 3
   },
   "file_extension": ".py",
   "mimetype": "text/x-python",
   "name": "python",
   "nbconvert_exporter": "python",
   "pygments_lexer": "ipython3",
   "version": "3.12.0"
  }
 },
 "nbformat": 4,
 "nbformat_minor": 5
}
